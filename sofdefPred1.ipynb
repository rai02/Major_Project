{
  "nbformat": 4,
  "nbformat_minor": 0,
  "metadata": {
    "colab": {
      "name": "sofdefPred1",
      "provenance": [],
      "toc_visible": true,
      "authorship_tag": "ABX9TyM+0IoqalECOYn/vVd0fIJ3",
      "include_colab_link": true
    },
    "kernelspec": {
      "name": "python3",
      "display_name": "Python 3"
    }
  },
  "cells": [
    {
      "cell_type": "markdown",
      "metadata": {
        "id": "view-in-github",
        "colab_type": "text"
      },
      "source": [
        "<a href=\"https://colab.research.google.com/github/rai02/Major_Project/blob/main/sofdefPred1.ipynb\" target=\"_parent\"><img src=\"https://colab.research.google.com/assets/colab-badge.svg\" alt=\"Open In Colab\"/></a>"
      ]
    },
    {
      "cell_type": "code",
      "metadata": {
        "id": "5nr1Ld8LJMWL"
      },
      "source": [
        "!pip install smote_variants"
      ],
      "execution_count": null,
      "outputs": []
    },
    {
      "cell_type": "code",
      "metadata": {
        "id": "lO_MHBRtI2Xy"
      },
      "source": [
        "import pandas as pd\n",
        "import numpy as np \n",
        "from sklearn.feature_selection import SelectKBest, chi2\n",
        "from sklearn.preprocessing import StandardScaler\n",
        "from sklearn.decomposition import PCA\n",
        "import matplotlib.pyplot as plt\n",
        "from sklearn import model_selection \n",
        "import seaborn as sns \n",
        "from sklearn.model_selection import StratifiedKFold \n",
        "from sklearn import metrics\n",
        "from numpy import mean\n",
        "from sklearn.ensemble import RandomForestClassifier,AdaBoostClassifier,GradientBoostingClassifier\n",
        "from sklearn.model_selection import train_test_split\n",
        "import smote_variants as sv\n",
        "from sklearn.datasets import make_classification\n",
        "from sklearn.model_selection import cross_val_score\n",
        "from sklearn.model_selection import RepeatedStratifiedKFold\n",
        "from sklearn.tree import DecisionTreeClassifier\n",
        "import os"
      ],
      "execution_count": 11,
      "outputs": []
    },
    {
      "cell_type": "code",
      "metadata": {
        "id": "G19SY8_JI2Wa"
      },
      "source": [
        "from google.colab import drive\n",
        "drive.mount('/content/drive/')\n"
      ],
      "execution_count": 12,
      "outputs": []
    },
    {
      "cell_type": "code",
      "metadata": {
        "id": "a2hX3P_6HEKZ"
      },
      "source": [
        "\n",
        "\n",
        "class Insight1():\n",
        "    def __init__(self, X, y):\n",
        "        self.X = X\n",
        "        self.y = y\n",
        "        best_features = SelectKBest(score_func=chi2,k=10)\n",
        "        fit = best_features.fit(self.X,self.y)\n",
        "\n",
        "        dfscores = pd.DataFrame(fit.scores_)\n",
        "        df_cols = pd.DataFrame(self.X.columns)\n",
        "\n",
        "        feature_scores = pd.concat([df_cols,dfscores],axis=1)\n",
        "        feature_scores.columns = ['parameters','score']\n",
        "        self.selected_features = feature_scores.nlargest(10,'score').parameters.values\n",
        "\n",
        "    \n",
        "    def get_plot(self,e_class,dsname):\n",
        "        e_val = [0.001, 0.0025, 0.005,0.01, 0.025, 0.05, 0.1, 0.25, 0.5, 1.0, 2.5, 5.0, 10.0, 25.0,50.0, 100.0]\n",
        "        for c in e_class:\n",
        "            os.makedirs(f\"./content/drive/My Drive/src/results2/{c[1]}\"+dsname)\n",
        "            curr_dir = f\"./content/drive/My Drive/src/results2/{c[1]}\"+dsname\n",
        "            for energy in e_val:\n",
        "                cv = StratifiedKFold(n_splits=10,shuffle=True)\n",
        "                classifier = c[0]\n",
        "                y = self.y.values\n",
        "                X = self.X\n",
        "                X = X.loc[:,self.selected_features]\n",
        "                X = X.values\n",
        "                X_train, X_test, y_train, y_test = train_test_split(X, y, test_size = 0.01, random_state = 0, stratify = None)\n",
        "                tprs = []\n",
        "                aucs = []\n",
        "                mean_fpr = np.linspace(0, 1, 100)\n",
        "                plt.figure(figsize=(10,10))\n",
        "                i = 0\n",
        "                # cv.sh\n",
        "                for train, test in cv.split(X_train, y_train):\n",
        "                    # oversampler= sv.CCR()\n",
        "                    oversampler= sv.CCR(proportion=1,energy=energy)    \n",
        "                    X_samp, y_samp= oversampler.sample(X_train[train], y_train[train])\n",
        "                    probas_ = classifier.fit(X_samp, y_samp).predict_proba(X_train[test])\n",
        "                    # Compute ROC curve and area the curve\n",
        "                    fpr, tpr, thresholds = metrics.roc_curve(y_train[test], probas_[:, 1])\n",
        "                    tprs.append(np.interp(mean_fpr, fpr, tpr))\n",
        "                    tprs[-1][0] = 0.0\n",
        "                    roc_auc = metrics.auc(fpr, tpr)\n",
        "                    aucs.append(roc_auc)\n",
        "                    plt.plot(fpr, tpr, lw=1, alpha=0.3,\n",
        "                            label='ROC fold %d (AUC = %0.2f)' % (i, roc_auc))\n",
        "\n",
        "                    i += 1\n",
        "                plt.plot([0, 1], [0, 1], linestyle='--', lw=2, color='r',\n",
        "                        label='Chance', alpha=.8)\n",
        "\n",
        "                mean_tpr = np.mean(tprs, axis=0)\n",
        "                mean_tpr[-1] = 1.0\n",
        "                mean_auc = metrics.auc(mean_fpr, mean_tpr)\n",
        "                std_auc = np.std(aucs)\n",
        "                plt.plot(mean_fpr, mean_tpr, color='b',\n",
        "                        label=r'Mean ROC (AUC = %0.2f $\\pm$ %0.2f)' % (mean_auc, std_auc),\n",
        "                        lw=2, alpha=.8)\n",
        "\n",
        "                std_tpr = np.std(tprs, axis=0)\n",
        "                tprs_upper = np.minimum(mean_tpr + std_tpr, 1)\n",
        "                tprs_lower = np.maximum(mean_tpr - std_tpr, 0)\n",
        "                plt.fill_between(mean_fpr, tprs_lower, tprs_upper, color='grey', alpha=.2,\n",
        "                                label=r'$\\pm$ 1 std. dev.')\n",
        "\n",
        "                plt.xlim([-0.01, 1.01])\n",
        "                plt.ylim([-0.01, 1.01])\n",
        "                plt.xlabel('False Positive Rate',fontsize=18)\n",
        "                plt.ylabel('True Positive Rate',fontsize=18)\n",
        "                plt.title(f'Cross-Validation ROC of {c[1]} [energy={energy}]',fontsize=18)\n",
        "                plt.legend(loc=\"lower right\", prop={'size': 15})\n",
        "                # plt.show()\n",
        "                plt.savefig(f'{curr_dir}/Cross-Validation_ROC_of_{c[1]} [energy={energy}.png')\n",
        "# src/results/GradboostJM1\n",
        "if __name__ == \"__main__\":\n",
        "    # df = pd.read_csv(\"./Dataset/JM1.csv\")\n",
        "    # df['label'] = df['label'].map({\"b'N'\" :False,\"b'Y'\" :True})\n",
        "    # df = pd.read_csv(\"./Dataset/KC3.csv\")\n",
        "    df= pd.read_csv('/content/drive/My Drive/Dataset/KC3.csv')\n",
        "    df['Defective'] = df['Defective'].map({\"b'N'\" :False,\"b'Y'\" :True})\n",
        "    X = df\n",
        "    # X = X.drop('label',axis=1)\n",
        "    # y = df['label']\n",
        "    X = X.drop('Defective',axis=1)\n",
        "    y = df['Defective']\n",
        "    \n",
        "    o = Insight1(X,y)\n",
        "    # o.get_plot([])\n",
        "    # o.get_plot([AdaBoostClassifier(n_estimators=200)])\n",
        "    # o.get_plot([RandomForestClassifier(n_estimators=200)])\n",
        "    clfs = [(GradientBoostingClassifier(n_estimators=200),\"GradBoost\"),(RandomForestClassifier(n_estimators=200),\"RandomForest\"),(AdaBoostClassifier(n_estimators=200),\"AdaBoost\")]\n",
        "    o.get_plot(clfs,\"KC3\")\n",
        "\n",
        "\n",
        "\n",
        "    # pass\n"
      ],
      "execution_count": null,
      "outputs": []
    }
  ]
}